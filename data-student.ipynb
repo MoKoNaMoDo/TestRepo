# Data Science Tools and Ecosystem

In this notebook, Data Science Tools and Ecosystem are summarized.

Some of the popular languages that Data Scientists use are:

- Python  
- R  
- SQL  
- Julia  
- Scala

Some of the commonly used libraries used by Data Scientists include:

- Pandas  
- NumPy  
- Scikit-learn  
- Matplotlib  
- TensorFlow

| Data Science Tools |
|--------------------|
| Jupyter Notebook   |
| RStudio            |
| Apache Zeppelin    |

Below are examples of evaluating arithmetic expressions in Python.

# This is a simple arithmetic expression to multiply then add numbers
(3 * 4) + 5

# This will convert 200 minutes to hours by dividing by 60
200 / 60

**Objectives:**
- List popular languages for Data Science  
- List commonly used libraries  
- Create tables and arithmetic expressions in code  
- Convert units in Python  
- Share a notebook via GitHub

**Author:** Your Name Here
